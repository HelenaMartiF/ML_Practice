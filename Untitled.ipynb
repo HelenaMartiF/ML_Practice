{
 "cells": [
  {
   "cell_type": "code",
   "execution_count": 22,
   "id": "8643fbe7-aa6e-46c1-bee6-6c0faf81ef33",
   "metadata": {},
   "outputs": [
    {
     "data": {
      "text/plain": [
       "0    Real Bed\n",
       "1    Real Bed\n",
       "2    Real Bed\n",
       "3    Real Bed\n",
       "4    Real Bed\n",
       "Name: Bed Type, dtype: object"
      ]
     },
     "execution_count": 22,
     "metadata": {},
     "output_type": "execute_result"
    }
   ],
   "source": [
    "# Carga de los datos\n",
    "data = pd.read_csv('airbnb-listings-extract.csv', sep=';')\n",
    "data['Bed Type'].head(5)"
   ]
  },
  {
   "cell_type": "code",
   "execution_count": 3,
   "id": "f9d6aad2-2ad3-487b-a251-819a4d2ccdbe",
   "metadata": {},
   "outputs": [],
   "source": [
    "# Importamos las librerias necesarias\n",
    "\n",
    "import numpy as np\n",
    "import pandas as pd\n",
    "import seaborn as sns\n",
    "import matplotlib.pyplot as plt\n",
    "%matplotlib inline\n",
    "\n",
    "import warnings\n",
    "warnings.filterwarnings('ignore')"
   ]
  },
  {
   "cell_type": "code",
   "execution_count": null,
   "id": "4a977f37-7501-4cca-8fa5-71a2975b609a",
   "metadata": {},
   "outputs": [],
   "source": []
  }
 ],
 "metadata": {
  "kernelspec": {
   "display_name": "Python 3 (ipykernel)",
   "language": "python",
   "name": "python3"
  },
  "language_info": {
   "codemirror_mode": {
    "name": "ipython",
    "version": 3
   },
   "file_extension": ".py",
   "mimetype": "text/x-python",
   "name": "python",
   "nbconvert_exporter": "python",
   "pygments_lexer": "ipython3",
   "version": "3.12.4"
  }
 },
 "nbformat": 4,
 "nbformat_minor": 5
}
